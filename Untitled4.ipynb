{
  "nbformat": 4,
  "nbformat_minor": 0,
  "metadata": {
    "colab": {
      "name": "Untitled4.ipynb",
      "provenance": [],
      "collapsed_sections": [],
      "authorship_tag": "ABX9TyMJtRjV98HzsfXEqJc5YH0X",
      "include_colab_link": true
    },
    "kernelspec": {
      "name": "python3",
      "display_name": "Python 3"
    }
  },
  "cells": [
    {
      "cell_type": "markdown",
      "metadata": {
        "id": "view-in-github",
        "colab_type": "text"
      },
      "source": [
        "<a href=\"https://colab.research.google.com/github/lee-changsub/1-/blob/master/Untitled4.ipynb\" target=\"_parent\"><img src=\"https://colab.research.google.com/assets/colab-badge.svg\" alt=\"Open In Colab\"/></a>"
      ]
    },
    {
      "cell_type": "markdown",
      "metadata": {
        "id": "Wzwz5dxIoqaT",
        "colab_type": "text"
      },
      "source": [
        "1주차 과제 (20. 05. 21)\n",
        "\n",
        "--------------------------------------------------------------------------------\n",
        "\n",
        "*이탤릭체*\n",
        "\n",
        "--------------------------------------------------------------------------------\n",
        "\n",
        "* 인공지능\n",
        " * 고객지원 및 상담 시스템\n",
        "\n",
        "* 딥러닝\n",
        " * 음성합성\n",
        "\n",
        "* 머신러닝\n",
        " * 이미지 분석을 통한 개발\n",
        "\n",
        "* 인공지능\n",
        " * 목소리 및 얼굴 인식\n",
        "\n",
        " -------------------------------------------------------------------------------\n",
        "\n",
        "네이버 블로그 [https://blog.naver.com/kr4thir/221639639901]\n",
        "\n",
        "네이버 블로그 [https://blog.naver.com/businessinsight/221421583695]\n",
        "\n",
        "네이버 블로그 [https://blog.naver.com/cstaredu/221362891889]\n",
        "\n",
        "네이버 블로그 [https://blog.naver.com/luv_bara/220501141004]"
      ]
    },
    {
      "cell_type": "code",
      "metadata": {
        "id": "EMGAuvxbosxK",
        "colab_type": "code",
        "colab": {}
      },
      "source": [
        ""
      ],
      "execution_count": 0,
      "outputs": []
    }
  ]
}