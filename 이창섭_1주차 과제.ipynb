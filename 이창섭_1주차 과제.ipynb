{
  "nbformat": 4,
  "nbformat_minor": 0,
  "metadata": {
    "colab": {
      "name": "Untitled4.ipynb",
      "provenance": [],
      "collapsed_sections": [],
      "authorship_tag": "ABX9TyPJ09DQMFoFWXcZOWCI6hdk",
      "include_colab_link": true
    },
    "kernelspec": {
      "name": "python3",
      "display_name": "Python 3"
    }
  },
  "cells": [
    {
      "cell_type": "markdown",
      "metadata": {
        "id": "view-in-github",
        "colab_type": "text"
      },
      "source": [
        "<a href=\"https://colab.research.google.com/github/lee-changsub/1-/blob/master/%EC%9D%B4%EC%B0%BD%EC%84%AD_1%EC%A3%BC%EC%B0%A8%20%EA%B3%BC%EC%A0%9C.ipynb\" target=\"_parent\"><img src=\"https://colab.research.google.com/assets/colab-badge.svg\" alt=\"Open In Colab\"/></a>"
      ]
    },
    {
      "cell_type": "markdown",
      "metadata": {
        "id": "Wzwz5dxIoqaT",
        "colab_type": "text"
      },
      "source": [
        "1주차 과제 (20. 05. 21)\n",
        "\n",
        "--------------------------------------------------------------------------------\n",
        "\n",
        "*이탤릭체*\n",
        "\n",
        "--------------------------------------------------------------------------------\n",
        "\n",
        "* 인공지능\n",
        " * 인공지능·빅데이터 기반 통합 라이프스타일 시스템\n",
        "\n",
        "* 딥러닝\n",
        " * 실시간 번역 무선 이어폰\n",
        "\n",
        "* 머신러닝\n",
        " * 날씨 뉴스\n",
        "\n",
        "* 인지컴퓨팅\n",
        " * 질병 예측 서비스\n",
        "\n",
        " -------------------------------------------------------------------------------\n",
        "\n",
        "[네이버 뉴스] (http://www.donga.com/news/article/all/20191121/98471916/2)\n",
        "\n",
        "[네이버 뉴스] (https://news.mtn.co.kr/newscenter/news_viewer.mtn?gidx=2017111418161882606)\n",
        "\n",
        "[네이버 뉴스] (https://www.sedaily.com/NewsView/1Z1NFIWEBX)\n",
        "\n",
        "[네이버 뉴스] (http://news.kmib.co.kr/article/view.asp?arcid=0014690249&code=61111311&cp=nv)"
      ]
    },
    {
      "cell_type": "code",
      "metadata": {
        "id": "EMGAuvxbosxK",
        "colab_type": "code",
        "colab": {}
      },
      "source": [
        ""
      ],
      "execution_count": 0,
      "outputs": []
    }
  ]
}